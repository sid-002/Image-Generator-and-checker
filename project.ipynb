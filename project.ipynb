{
 "cells": [
  {
   "cell_type": "code",
   "execution_count": 6,
   "id": "432ed1c6-710e-4c21-bfd9-5e8cf1e5bb41",
   "metadata": {},
   "outputs": [
    {
     "name": "stdout",
     "output_type": "stream",
     "text": [
      "Requirement already satisfied: torch in c:\\users\\sidhu\\anaconda3\\lib\\site-packages (2.6.0)\n",
      "Requirement already satisfied: torchvision in c:\\users\\sidhu\\anaconda3\\lib\\site-packages (0.21.0)\n",
      "Requirement already satisfied: filelock in c:\\users\\sidhu\\anaconda3\\lib\\site-packages (from torch) (3.13.1)\n",
      "Requirement already satisfied: typing-extensions>=4.10.0 in c:\\users\\sidhu\\anaconda3\\lib\\site-packages (from torch) (4.11.0)\n",
      "Requirement already satisfied: networkx in c:\\users\\sidhu\\anaconda3\\lib\\site-packages (from torch) (3.3)\n",
      "Requirement already satisfied: jinja2 in c:\\users\\sidhu\\anaconda3\\lib\\site-packages (from torch) (3.1.4)\n",
      "Requirement already satisfied: fsspec in c:\\users\\sidhu\\anaconda3\\lib\\site-packages (from torch) (2024.6.1)\n",
      "Requirement already satisfied: setuptools in c:\\users\\sidhu\\anaconda3\\lib\\site-packages (from torch) (75.1.0)\n",
      "Requirement already satisfied: sympy==1.13.1 in c:\\users\\sidhu\\anaconda3\\lib\\site-packages (from torch) (1.13.1)\n",
      "Requirement already satisfied: mpmath<1.4,>=1.1.0 in c:\\users\\sidhu\\anaconda3\\lib\\site-packages (from sympy==1.13.1->torch) (1.3.0)\n",
      "Requirement already satisfied: numpy in c:\\users\\sidhu\\anaconda3\\lib\\site-packages (from torchvision) (1.26.4)\n",
      "Requirement already satisfied: pillow!=8.3.*,>=5.3.0 in c:\\users\\sidhu\\anaconda3\\lib\\site-packages (from torchvision) (10.4.0)\n",
      "Requirement already satisfied: MarkupSafe>=2.0 in c:\\users\\sidhu\\anaconda3\\lib\\site-packages (from jinja2->torch) (2.1.3)\n"
     ]
    }
   ],
   "source": [
    "!pip install torch torchvision\n"
   ]
  },
  {
   "cell_type": "code",
   "execution_count": 10,
   "id": "30d2da53-daa5-40f1-8791-d36f917698fe",
   "metadata": {},
   "outputs": [
    {
     "name": "stdout",
     "output_type": "stream",
     "text": [
      "Generated image shape: torch.Size([8, 1, 28, 28])\n",
      "Discriminator output: tensor([0.4940, 0.5072, 0.5031, 0.5191, 0.5057, 0.5186, 0.5156, 0.5079],\n",
      "       grad_fn=<SqueezeBackward0>)\n"
     ]
    }
   ],
   "source": [
    "import torch\n",
    "import torch.nn as nn\n",
    "import torch.nn.functional as F\n",
    "\n",
    "# Positional Encoding (for attention-based models)\n",
    "class PositionalEncoding(nn.Module):\n",
    "    def __init__(self, d_model, max_len=100):\n",
    "        super().__init__()\n",
    "        pe = torch.zeros(max_len, d_model)\n",
    "        position = torch.arange(0, max_len).unsqueeze(1)\n",
    "        div_term = torch.exp(torch.arange(0, d_model, 2) * (-torch.log(torch.tensor(10000.0)) / d_model))\n",
    "\n",
    "        pe[:, 0::2] = torch.sin(position * div_term)\n",
    "        pe[:, 1::2] = torch.cos(position * div_term)\n",
    "        self.pe = pe.unsqueeze(0)\n",
    "\n",
    "    def forward(self, x):\n",
    "        return x + self.pe[:, :x.size(1)]\n",
    "\n",
    "# Transformer-based Generator (simplified)\n",
    "class TransformerGenerator(nn.Module):\n",
    "    def __init__(self, noise_dim, img_size):\n",
    "        super().__init__()\n",
    "        self.linear = nn.Linear(noise_dim, 256)\n",
    "        self.pos_enc = PositionalEncoding(d_model=256, max_len=16)\n",
    "        \n",
    "        encoder_layer = nn.TransformerEncoderLayer(d_model=256, nhead=4, dim_feedforward=512, batch_first=True)\n",
    "\n",
    "        self.transformer = nn.TransformerEncoder(encoder_layer, num_layers=2)\n",
    "        \n",
    "        self.fc = nn.Linear(256, img_size * img_size)\n",
    "        self.img_size = img_size\n",
    "\n",
    "    def forward(self, z):\n",
    "        x = self.linear(z).unsqueeze(1)  # (B, 1, 256)\n",
    "        x = self.pos_enc(x)\n",
    "        x = self.transformer(x)\n",
    "        x = self.fc(x[:, 0])  # Only first token used for simplicity\n",
    "        img = x.view(-1, 1, self.img_size, self.img_size)\n",
    "        return torch.tanh(img)\n",
    "\n",
    "# Simple CNN Discriminator\n",
    "class CNNDiscriminator(nn.Module):\n",
    "    def __init__(self, img_size):\n",
    "        super().__init__()\n",
    "        self.net = nn.Sequential(\n",
    "            nn.Conv2d(1, 64, 4, 2, 1),  # (B, 64, H/2, W/2)\n",
    "            nn.LeakyReLU(0.2),\n",
    "            nn.Conv2d(64, 128, 4, 2, 1),\n",
    "            nn.LeakyReLU(0.2),\n",
    "            nn.Flatten(),\n",
    "            nn.Linear((img_size // 4) * (img_size // 4) * 128, 1),\n",
    "            nn.Sigmoid()\n",
    "        )\n",
    "\n",
    "    def forward(self, x):\n",
    "        return self.net(x)\n",
    "\n",
    "# Test run\n",
    "noise_dim = 100\n",
    "img_size = 28\n",
    "\n",
    "G = TransformerGenerator(noise_dim=noise_dim, img_size=img_size)\n",
    "D = CNNDiscriminator(img_size=img_size)\n",
    "\n",
    "z = torch.randn(8, noise_dim)\n",
    "fake_images = G(z)\n",
    "output = D(fake_images)\n",
    "\n",
    "print(\"Generated image shape:\", fake_images.shape)\n",
    "print(\"Discriminator output:\", output.squeeze())"
   ]
  },
  {
   "cell_type": "code",
   "execution_count": 12,
   "id": "b18a6dac-a905-40d9-9f7b-bbc2a45bc75f",
   "metadata": {},
   "outputs": [
    {
     "data": {
      "image/png": "[encoded data removed]",
      "text/plain": [
       "<Figure size 400x400 with 1 Axes>"
      ]
     },
     "metadata": {},
     "output_type": "display_data"
    }
   ],
   "source": [
    "device = torch.device(\"cuda\" if torch.cuda.is_available() else \"cpu\")\n",
    "\n",
    "G.eval()\n",
    "with torch.no_grad():\n",
    "    noise = torch.randn(1, 100).to(device)\n",
    "    fake_image = G(noise).cpu().squeeze().numpy()\n",
    "\n",
    "plt.figure(figsize=(4, 4))\n",
    "plt.imshow(fake_image, cmap='gray')\n",
    "plt.title(\"Generated Image from Transformer Generator\")\n",
    "plt.axis('off')\n",
    "plt.show()\n"
   ]
  },
  {
   "cell_type": "code",
   "execution_count": null,
   "id": "2bee1f47-2b31-4b1d-b9ba-d15465d85a98",
   "metadata": {},
   "outputs": [],
   "source": []
  }
 ],
 "metadata": {
  "kernelspec": {
   "display_name": "Python [conda env:base] *",
   "language": "python",
   "name": "conda-base-py"
  },
  "language_info": {
   "codemirror_mode": {
    "name": "ipython",
    "version": 3
   },
   "file_extension": ".py",
   "mimetype": "text/x-python",
   "name": "python",
   "nbconvert_exporter": "python",
   "pygments_lexer": "ipython3",
   "version": "3.12.7"
  }
 },
 "nbformat": 4,
 "nbformat_minor": 5
}
